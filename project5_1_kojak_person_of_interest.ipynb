{
 "cells": [
  {
   "cell_type": "markdown",
   "metadata": {},
   "source": [
    "# Project 5 Person of Interest\n",
    "## A detection and tracking system for public cameras\n",
    "\n",
    "## Part I OpenCV tracker system comparison\n",
    "\n",
    "## Compare trackers. \n",
    "\n",
    "Person of Interest: OpenCV Tracking API | TensorFlow | Deep learning | AWS\n",
    "- Enable the camera watch for public security at New York Time Square.\n",
    "- Developing a detection and tracking system for one of the public cameras.\n",
    "- Setting notification of abnormal counts of people and their moving speed."
   ]
  },
  {
   "cell_type": "code",
   "execution_count": 3,
   "metadata": {
    "collapsed": true
   },
   "outputs": [],
   "source": [
    "import cv2\n",
    "import numpy as np\n",
    "import gc\n",
    "import matplotlib.pyplot as plt\n",
    "%matplotlib inline"
   ]
  },
  {
   "cell_type": "code",
   "execution_count": 2,
   "metadata": {},
   "outputs": [
    {
     "data": {
      "text/plain": [
       "'3.3.0'"
      ]
     },
     "execution_count": 2,
     "metadata": {},
     "output_type": "execute_result"
    }
   ],
   "source": [
    "cv2.__version__"
   ]
  },
  {
   "cell_type": "markdown",
   "metadata": {},
   "source": [
    "## I. Compared 6 trackers, decided the best one for this camera is MIL."
   ]
  },
  {
   "cell_type": "code",
   "execution_count": 3,
   "metadata": {
    "collapsed": true
   },
   "outputs": [],
   "source": [
    "# try 6 trackers, BGR\n",
    "#Boosting, MIL, KCF, TLD, MedianFlow, GOTURN\n",
    "#https://github.com/opencv/opencv_contrib/blob/master/modules/tracking/samples/tracker.py\n",
    "\n",
    "import numpy as np\n",
    "import cv2\n",
    "import sys\n",
    "\n",
    "cv2.namedWindow(\"tracking\")\n",
    "camera = cv2.VideoCapture('./videos/0.mov')\n",
    "ok, image=camera.read()\n",
    "if not ok:\n",
    "    print('Failed to read video')\n",
    "    exit()\n",
    "\n",
    "#bounding box, region of interest   \n",
    "bbox = cv2.selectROI(\"tracking\", image)\n",
    "tracker_boosting = cv2.TrackerBoosting_create()\n",
    "tracker_mil = cv2.TrackerMIL_create()\n",
    "tracker_kcf = cv2.TrackerKCF_create() #lost and no faulse positive\n",
    "tracker_tld = cv2.TrackerTLD_create() #very slow, lost in the middle then follow others\n",
    "tracker_medianflow = cv2.TrackerMedianFlow_create() #lost in the middle, can shrink and expand to capture\n",
    "# tracker_goturn = cv2.TrackerGOTURN_create() # not in this coding\n",
    "init_once = False\n",
    "i=0\n",
    "\n",
    "while camera.isOpened():\n",
    "    ok, image=camera.read()\n",
    "    if not ok:\n",
    "        print ('no image to read')\n",
    "        break\n",
    "\n",
    "    if not init_once:\n",
    "        ok1 = tracker_boosting.init(image, bbox)\n",
    "        ok2 = tracker_mil.init(image, bbox)\n",
    "        ok3 = tracker_kcf.init(image, bbox)\n",
    "        ok4 = tracker_tld.init(image, bbox)\n",
    "        ok5 = tracker_medianflow.init(image, bbox)\n",
    "#         ok = tracker_goturn.init(image, bbox)\n",
    "        init_once = True\n",
    "\n",
    "# for boosting box\n",
    "    ok, newbox_boosting = tracker_boosting.update(image)\n",
    "    if ok:\n",
    "        p1 = (int(newbox_boosting[0]), int(newbox_boosting[1]))\n",
    "        p2 = (int(newbox_boosting[0] + newbox_boosting[2]), int(newbox_boosting[1] + newbox_boosting[3]))\n",
    "        cv2.rectangle(image, p1, p2, (200,0,0),2)\n",
    "#         cv2.putText(image, 'boosting',p1,(100,100,0),4,cv2.LINE_AA)\n",
    "#         print(p1)\n",
    " \n",
    "# for mil\n",
    "    ok, newbox_mil = tracker_mil.update(image)\n",
    "    if ok:\n",
    "        p1 = (int(newbox_mil[0]), int(newbox_mil[1]))\n",
    "        p2 = (int(newbox_mil[0] + newbox_mil[2]), int(newbox_mil[1] + newbox_mil[3]))\n",
    "        cv2.rectangle(image, p1, p2, (0,200,0),2)\n",
    "        \n",
    "# for kcf\n",
    "    ok, newbox_kcf = tracker_kcf.update(image)\n",
    "    if ok:\n",
    "        p1 = (int(newbox_kcf[0]), int(newbox_kcf[1]))\n",
    "        p2 = (int(newbox_kcf[0] + newbox_kcf[2]), int(newbox_kcf[1] + newbox_kcf[3]))\n",
    "        cv2.rectangle(image, p1, p2, (0,0,200),2)\n",
    "\n",
    "# for tld\n",
    "    ok, newbox_tld = tracker_tld.update(image)\n",
    "    if ok:\n",
    "        p1 = (int(newbox_tld[0]), int(newbox_tld[1]))\n",
    "        p2 = (int(newbox_tld[0] + newbox_tld[2]), int(newbox_tld[1] + newbox_tld[3]))\n",
    "        cv2.rectangle(image, p1, p2, (0,0,0),2)\n",
    "\n",
    "# for medianflow\n",
    "    ok, newbox_medianflow = tracker_medianflow.update(image)\n",
    "    if ok:\n",
    "        p1 = (int(newbox_medianflow[0]), int(newbox_medianflow[1]))\n",
    "        p2 = (int(newbox_medianflow[0] + newbox_medianflow[2]), int(newbox_medianflow[1] + newbox_medianflow[3]))\n",
    "        cv2.rectangle(image, p1, p2, (200,200,200),2)\n",
    "\n",
    "    cv2.imshow(\"tracking\", image)\n",
    "    cv2.imwrite( \"../../../nyc17_ds12/projects/05-kojak/images/tracker/n14_1_%d.jpg\" %i, image);\n",
    "    i+=1\n",
    "    k = cv2.waitKey(30) & 0xff\n",
    "    if k == 27 : break # esc pressed\n",
    "        \n",
    "camera.release()\n",
    "cv2.destroyAllWindows()\n",
    "for i in range(1,5):\n",
    "    cv2.waitKey(1)"
   ]
  },
  {
   "cell_type": "markdown",
   "metadata": {
    "collapsed": true
   },
   "source": [
    "## II. Multiple trackers enable the combination of tracker and object detection.\n",
    "https://github.com/opencv/opencv_contrib/blob/master/modules/tracking/samples/multitracker.py"
   ]
  },
  {
   "cell_type": "code",
   "execution_count": null,
   "metadata": {},
   "outputs": [],
   "source": [
    "import numpy as np\n",
    "import cv2\n",
    "import sys\n",
    "\n",
    "if len(sys.argv) != 2:\n",
    "    print('Input video name is missing')\n",
    "    exit()\n",
    "\n",
    "print('Select 3 tracking targets')\n",
    "\n",
    "cv2.namedWindow(\"tracking\")\n",
    "camera = cv2.VideoCapture('./videos/0.mov')\n",
    "tracker = cv2.TrackerGOTURN_create()\n",
    "init_once = False\n",
    "\n",
    "ok, image=camera.read()\n",
    "if not ok:\n",
    "    print('Failed to read video')\n",
    "    exit()\n",
    "\n",
    "bbox1 = cv2.selectROI('tracking', image)\n",
    "bbox2 = cv2.selectROI('tracking', image)\n",
    "bbox3 = cv2.selectROI('tracking', image)\n",
    "\n",
    "while camera.isOpened():\n",
    "    ok, image=camera.read()\n",
    "    if not ok:\n",
    "        print ('no image to read')\n",
    "        break\n",
    "\n",
    "    if not init_once:\n",
    "        ok = tracker.add(cv2.TrackerMIL_create(), image, bbox1)\n",
    "        ok = tracker.add(cv2.TrackerMIL_create(), image, bbox2)\n",
    "        ok = tracker.add(cv2.TrackerMIL_create(), image, bbox3)\n",
    "        init_once = True\n",
    "\n",
    "    ok, boxes = tracker.update(image)\n",
    "    print (ok, boxes)\n",
    "\n",
    "    for newbox in boxes:\n",
    "        p1 = (int(newbox[0]), int(newbox[1]))\n",
    "        p2 = (int(newbox[0] + newbox[2]), int(newbox[1] + newbox[3]))\n",
    "        cv2.rectangle(image, p1, p2, (200,0,0))\n",
    "\n",
    "    cv2.imshow('tracking', image)\n",
    "    k = cv2.waitKey(1)\n",
    "    if k == 27 : break # esc pressed\n",
    "camera.release()\n",
    "cv2.destroyAllWindows()\n",
    "for i in range(1,5):\n",
    "    cv2.waitKey(1)"
   ]
  }
 ],
 "metadata": {
  "kernelspec": {
   "display_name": "Python 3",
   "language": "python",
   "name": "python3"
  },
  "language_info": {
   "codemirror_mode": {
    "name": "ipython",
    "version": 3
   },
   "file_extension": ".py",
   "mimetype": "text/x-python",
   "name": "python",
   "nbconvert_exporter": "python",
   "pygments_lexer": "ipython3",
   "version": "3.6.1"
  }
 },
 "nbformat": 4,
 "nbformat_minor": 2
}
